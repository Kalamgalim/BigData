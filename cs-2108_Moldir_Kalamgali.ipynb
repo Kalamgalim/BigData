{
  "metadata": {
    "kernelspec": {
      "name": "python",
      "display_name": "Python (Pyodide)",
      "language": "python"
    },
    "language_info": {
      "codemirror_mode": {
        "name": "python",
        "version": 3
      },
      "file_extension": ".py",
      "mimetype": "text/x-python",
      "name": "python",
      "nbconvert_exporter": "python",
      "pygments_lexer": "ipython3",
      "version": "3.8"
    }
  },
  "nbformat_minor": 5,
  "nbformat": 4,
  "cells": [
    {
      "cell_type": "markdown",
      "source": "### 1 task: Create a Jupyter Notebook",
      "metadata": {},
      "id": "f0d588e7-83dd-40d0-8bce-6ea567c62aa2"
    },
    {
      "cell_type": "markdown",
      "source": "### 2 task: Create markdown cell with title of the notebook",
      "metadata": {},
      "id": "0b1777c3-8fd4-4322-b7a7-00d970fe0e9b"
    },
    {
      "cell_type": "markdown",
      "source": "# Big Data in Law Enforcement\n",
      "metadata": {},
      "id": "b4654926-68b9-4c5c-97df-c30f905c8c6e"
    },
    {
      "cell_type": "markdown",
      "source": "### 3 task: Create a markdown cell for an introduction",
      "metadata": {},
      "id": "86e39b0a-9725-41d0-8195-8c0c0d0f631e"
    },
    {
      "cell_type": "markdown",
      "source": "## Introduction\n### Big data refers to data that is so large, fast, or complex that it is difficult or impossible to process it using traditional methods. Cybersecurity is the application of technologies, processes, and controls to protect systems, networks, programs, devices, and data from cyber attacks.",
      "metadata": {},
      "id": "2ee95f7a-66c4-438d-9905-48cdf9748ebd"
    },
    {
      "cell_type": "markdown",
      "source": "### 4 task: Create a markdown cell to list data science language",
      "metadata": {},
      "id": "3504905c-e2b4-4801-bf78-6051cbeb14cb"
    },
    {
      "cell_type": "markdown",
      "source": "*Some of the popular languages that Data Scientists use are:*\n\n1. Python\n2. C++\n3. Java\n",
      "metadata": {},
      "id": "a6b58cd3-b186-444c-9927-6332cbb32f03"
    },
    {
      "cell_type": "markdown",
      "source": "### 5 task: Create a markdown cell to list data science libraries",
      "metadata": {},
      "id": "4ecf800c-5920-409f-a549-88e6b13fd161"
    },
    {
      "cell_type": "markdown",
      "source": "*Some of the commonly used libraries used by Data Scientists include:*\n\n- Pandas\n- NumPy\n- Scikit-Learn\n",
      "metadata": {},
      "id": "153dcdb6-c6f7-4d81-8a07-f0f33b84db5d"
    },
    {
      "cell_type": "markdown",
      "source": "### 6 task: Create a markdown cell with a table of Data Science tools.",
      "metadata": {},
      "id": "6090396b-596b-4de0-a357-1e3002a28918"
    },
    {
      "cell_type": "markdown",
      "source": "| Data Science Tools     |\n|------------------------|\n| Jupyter Notebook       |\n| Apache Spark           |\n| RStudio                |\n",
      "metadata": {},
      "id": "4aa30944-48f4-48f1-957d-4087ae0c66e5"
    },
    {
      "cell_type": "markdown",
      "source": "### 7 task: Create a markdown cell with arithmetic expression",
      "metadata": {},
      "id": "a1a0da7e-b349-4781-ba59-a396e40941ab"
    },
    {
      "cell_type": "markdown",
      "source": "### Below are a few examples of evaluating arithmetic expressions in Python.\n\n\n",
      "metadata": {},
      "id": "5b508c32-9877-4db1-8cdd-bd3c50a96e33"
    },
    {
      "cell_type": "code",
      "source": "# Example 1: Addition\n5 + 3",
      "metadata": {
        "trusted": true
      },
      "execution_count": 4,
      "outputs": [
        {
          "execution_count": 4,
          "output_type": "execute_result",
          "data": {
            "text/plain": "8"
          },
          "metadata": {}
        }
      ],
      "id": "01ffe346-984f-433a-a5c6-c7c1aa081aed"
    },
    {
      "cell_type": "code",
      "source": "# Example 2: Subtraction\n10 - 4\n\n",
      "metadata": {
        "trusted": true
      },
      "execution_count": 5,
      "outputs": [
        {
          "execution_count": 5,
          "output_type": "execute_result",
          "data": {
            "text/plain": "6"
          },
          "metadata": {}
        }
      ],
      "id": "0a45e430-da4d-492a-be70-fb4444176715"
    },
    {
      "cell_type": "code",
      "source": "# Example 3: Multiplication\n6 * 2\n",
      "metadata": {
        "trusted": true
      },
      "execution_count": 6,
      "outputs": [
        {
          "execution_count": 6,
          "output_type": "execute_result",
          "data": {
            "text/plain": "12"
          },
          "metadata": {}
        }
      ],
      "id": "fd525880-76c2-4034-9077-7aca7ad6dccf"
    },
    {
      "cell_type": "code",
      "source": "# Example 4: Division\n20 / 5",
      "metadata": {
        "trusted": true
      },
      "execution_count": 7,
      "outputs": [
        {
          "execution_count": 7,
          "output_type": "execute_result",
          "data": {
            "text/plain": "4.0"
          },
          "metadata": {}
        }
      ],
      "id": "40f1aa6c-6e3f-4b81-8fe1-65fe25aac8f6"
    },
    {
      "cell_type": "markdown",
      "source": "### 8 task: Create a code to multiply and add numbers",
      "metadata": {},
      "id": "0eaf9fec-17a9-41de-b846-fcfda53e40f7"
    },
    {
      "cell_type": "code",
      "source": "# This is a simple arithmetic expression\n(4 * 6) + 11",
      "metadata": {
        "trusted": true
      },
      "execution_count": 11,
      "outputs": [
        {
          "execution_count": 11,
          "output_type": "execute_result",
          "data": {
            "text/plain": "35"
          },
          "metadata": {}
        }
      ],
      "id": "4fbe0598-d951-4eee-bc9e-b69ba59ec476"
    },
    {
      "cell_type": "markdown",
      "source": "### 9 task: Create a code cell to convert minutes to hours",
      "metadata": {},
      "id": "060f654c-5029-4abe-93e6-64af26d8e0e2"
    },
    {
      "cell_type": "code",
      "source": "# This will convert 300 minutes to hours by dividing by 60\n300 // 60\n",
      "metadata": {
        "trusted": true
      },
      "execution_count": 18,
      "outputs": [
        {
          "execution_count": 18,
          "output_type": "execute_result",
          "data": {
            "text/plain": "5"
          },
          "metadata": {}
        }
      ],
      "id": "7b54274a-d9e4-42cd-bf10-673e937858e4"
    },
    {
      "cell_type": "markdown",
      "source": "### 10 task: Insert a markdown cell to list Objectives ",
      "metadata": {},
      "id": "8fe6d688-27e2-44ec-a87b-dea6560f04bf"
    },
    {
      "cell_type": "markdown",
      "source": "**Objectives:**\n\n- Introduce commonly used libraries for Data Science.\n- Demonstrate arithmetic expressions in Python.\n- Showcase code comments and their importance.",
      "metadata": {},
      "id": "a257f167-8be0-4509-8ddf-12862ae14465"
    },
    {
      "cell_type": "markdown",
      "source": "### 11 task: Create a markdown cell to indicate the Author’s name",
      "metadata": {},
      "id": "c0dc0e43-928f-4d31-878d-b0b90faf584e"
    },
    {
      "cell_type": "markdown",
      "source": "## Author\nMoldir Kalamgali\n",
      "metadata": {},
      "id": "845f3fcf-762d-45d1-881a-41efa8b16fd9"
    },
    {
      "cell_type": "code",
      "source": "",
      "metadata": {},
      "execution_count": null,
      "outputs": [],
      "id": "a1d02366-9aa2-4cf0-8513-ddbe6810bf53"
    }
  ]
}